{
 "cells": [
  {
   "cell_type": "markdown",
   "metadata": {},
   "source": [
    "# Perceptron Method\n",
    "\n",
    "Let y=WX be the eqn of hyperplane\n",
    "where W=[w0,w1,w2...wn] and X=[X0,x1,x2....Xn] \n",
    "\n",
    "## `--Algorithm--`\n",
    "\n",
    "* Choose random values of wts initially \n",
    "* until converge:\n",
    "    pick and random point and chk if it is classified properly\n",
    "    if yes -> Do nothing and move to next iteration\n",
    "    else -> Do transformation to classify it properly\n",
    "* repeat above steps until we converges\n",
    "\n",
    "## `--PsudoCode--`\n",
    "\n",
    "```python\n",
    "for _ in range(epochs):\n",
    "    np.random.randint(X.shape[0])\n",
    "    y_actual=y[idx]\n",
    "    y_hat=np.dot(X[idx],W)\n",
    "\n",
    "    if y[idx]<0 and y_hat>=0:\n",
    "        # Transform/Move line towards +ve region\n",
    "        Wts-=self.alpha*X[idx]\n",
    "    elif y[idx]>=0 and y_hat<0:\n",
    "        # Transform/Move line towards -ve region\n",
    "        Wts+=self.alpha*X[idx]\n",
    "```"
   ]
  },
  {
   "cell_type": "code",
   "execution_count": 175,
   "metadata": {},
   "outputs": [],
   "source": [
    "import numpy as np\n",
    "import pandas as pd\n",
    "import seaborn as sns\n",
    "import matplotlib.pyplot as plt\n",
    "sns.set_theme(context='notebook', style='darkgrid',palette='dark', font_scale=1.2)\n",
    "from sklearn.model_selection import train_test_split\n",
    "%matplotlib inline"
   ]
  },
  {
   "cell_type": "code",
   "execution_count": 176,
   "metadata": {},
   "outputs": [
    {
     "data": {
      "text/html": [
       "<div>\n",
       "<style scoped>\n",
       "    .dataframe tbody tr th:only-of-type {\n",
       "        vertical-align: middle;\n",
       "    }\n",
       "\n",
       "    .dataframe tbody tr th {\n",
       "        vertical-align: top;\n",
       "    }\n",
       "\n",
       "    .dataframe thead th {\n",
       "        text-align: right;\n",
       "    }\n",
       "</style>\n",
       "<table border=\"1\" class=\"dataframe\">\n",
       "  <thead>\n",
       "    <tr style=\"text-align: right;\">\n",
       "      <th></th>\n",
       "      <th>Feature1</th>\n",
       "      <th>Feature2</th>\n",
       "      <th>Target</th>\n",
       "    </tr>\n",
       "  </thead>\n",
       "  <tbody>\n",
       "    <tr>\n",
       "      <th>0</th>\n",
       "      <td>2.5</td>\n",
       "      <td>1.2</td>\n",
       "      <td>0</td>\n",
       "    </tr>\n",
       "    <tr>\n",
       "      <th>1</th>\n",
       "      <td>3.9</td>\n",
       "      <td>2.8</td>\n",
       "      <td>0</td>\n",
       "    </tr>\n",
       "    <tr>\n",
       "      <th>2</th>\n",
       "      <td>1.4</td>\n",
       "      <td>1.3</td>\n",
       "      <td>1</td>\n",
       "    </tr>\n",
       "    <tr>\n",
       "      <th>3</th>\n",
       "      <td>4.6</td>\n",
       "      <td>3.5</td>\n",
       "      <td>0</td>\n",
       "    </tr>\n",
       "    <tr>\n",
       "      <th>4</th>\n",
       "      <td>3.1</td>\n",
       "      <td>2.4</td>\n",
       "      <td>1</td>\n",
       "    </tr>\n",
       "  </tbody>\n",
       "</table>\n",
       "</div>"
      ],
      "text/plain": [
       "   Feature1  Feature2  Target\n",
       "0       2.5       1.2       0\n",
       "1       3.9       2.8       0\n",
       "2       1.4       1.3       1\n",
       "3       4.6       3.5       0\n",
       "4       3.1       2.4       1"
      ]
     },
     "execution_count": 176,
     "metadata": {},
     "output_type": "execute_result"
    }
   ],
   "source": [
    "df=pd.read_csv(\"logistic-reg-sampleDataset.csv\")\n",
    "df.head(5)"
   ]
  },
  {
   "cell_type": "code",
   "execution_count": 177,
   "metadata": {},
   "outputs": [
    {
     "data": {
      "text/html": [
       "<div>\n",
       "<style scoped>\n",
       "    .dataframe tbody tr th:only-of-type {\n",
       "        vertical-align: middle;\n",
       "    }\n",
       "\n",
       "    .dataframe tbody tr th {\n",
       "        vertical-align: top;\n",
       "    }\n",
       "\n",
       "    .dataframe thead th {\n",
       "        text-align: right;\n",
       "    }\n",
       "</style>\n",
       "<table border=\"1\" class=\"dataframe\">\n",
       "  <thead>\n",
       "    <tr style=\"text-align: right;\">\n",
       "      <th></th>\n",
       "      <th>Feature1</th>\n",
       "      <th>Feature2</th>\n",
       "      <th>Target</th>\n",
       "    </tr>\n",
       "  </thead>\n",
       "  <tbody>\n",
       "    <tr>\n",
       "      <th>0</th>\n",
       "      <td>2.5</td>\n",
       "      <td>1.2</td>\n",
       "      <td>-1</td>\n",
       "    </tr>\n",
       "    <tr>\n",
       "      <th>1</th>\n",
       "      <td>3.9</td>\n",
       "      <td>2.8</td>\n",
       "      <td>-1</td>\n",
       "    </tr>\n",
       "    <tr>\n",
       "      <th>2</th>\n",
       "      <td>1.4</td>\n",
       "      <td>1.3</td>\n",
       "      <td>1</td>\n",
       "    </tr>\n",
       "    <tr>\n",
       "      <th>3</th>\n",
       "      <td>4.6</td>\n",
       "      <td>3.5</td>\n",
       "      <td>-1</td>\n",
       "    </tr>\n",
       "    <tr>\n",
       "      <th>4</th>\n",
       "      <td>3.1</td>\n",
       "      <td>2.4</td>\n",
       "      <td>1</td>\n",
       "    </tr>\n",
       "  </tbody>\n",
       "</table>\n",
       "</div>"
      ],
      "text/plain": [
       "   Feature1  Feature2  Target\n",
       "0       2.5       1.2      -1\n",
       "1       3.9       2.8      -1\n",
       "2       1.4       1.3       1\n",
       "3       4.6       3.5      -1\n",
       "4       3.1       2.4       1"
      ]
     },
     "execution_count": 177,
     "metadata": {},
     "output_type": "execute_result"
    }
   ],
   "source": [
    "df[\"Target\"]=np.where(df[\"Target\"]==0,-1,1)\n",
    "df.head(5)"
   ]
  },
  {
   "cell_type": "code",
   "execution_count": 178,
   "metadata": {},
   "outputs": [
    {
     "data": {
      "text/plain": [
       "(array([[2.5, 1.2],\n",
       "        [3.9, 2.8],\n",
       "        [1.4, 1.3],\n",
       "        [4.6, 3.5],\n",
       "        [3.1, 2.4]]),\n",
       " array([[-1],\n",
       "        [-1],\n",
       "        [ 1],\n",
       "        [-1],\n",
       "        [ 1]]))"
      ]
     },
     "execution_count": 178,
     "metadata": {},
     "output_type": "execute_result"
    }
   ],
   "source": [
    "# Extracting features and target-varialbes from the dataset\n",
    "m = df.shape[0]\n",
    "X = df.iloc[:, :-1].values\n",
    "y = df.iloc[:, -1].values.reshape((m, 1))\n",
    "X[:5], y[:5]"
   ]
  },
  {
   "cell_type": "code",
   "execution_count": 179,
   "metadata": {},
   "outputs": [
    {
     "data": {
      "text/plain": [
       "((40, 2), (10, 2), (40, 1), (10, 1))"
      ]
     },
     "execution_count": 179,
     "metadata": {},
     "output_type": "execute_result"
    }
   ],
   "source": [
    "# Spliting Data for Training and testing\n",
    "X_train, X_test, y_train, y_test = train_test_split(X, y, test_size=0.2)\n",
    "X_train.shape, X_test.shape,y_train.shape,y_test.shape"
   ]
  },
  {
   "cell_type": "code",
   "execution_count": 180,
   "metadata": {},
   "outputs": [],
   "source": [
    "class Perceptron:\n",
    "    def __init__(self,alpha=0.01,num_iter=1000):\n",
    "        self.alpha = alpha\n",
    "        self.num_iter = num_iter\n",
    "        self.thetas=None\n",
    "\n",
    "    def fit(self,X,y):\n",
    "        m,n = X.shape\n",
    "        # Adding col for the intercept\n",
    "        X=np.concatenate([np.ones((m,1)),X],axis=1)\n",
    "        self.thetas=np.random.random(n+1)\n",
    "        for _ in range(self.num_iter):\n",
    "            idx=np.random.randint(m)\n",
    "            y_hat = np.dot(X[idx], self.thetas)\n",
    "\n",
    "            if y[idx]<0 and y_hat>=0:\n",
    "                # Transform/Move line towards +ve region\n",
    "                self.thetas-=self.alpha*X[idx]\n",
    "            elif y[idx]>=0 and y_hat<0:\n",
    "                # Transform/Move line towards -ve region\n",
    "                self.thetas +=self.alpha*X[idx]\n",
    "    \n",
    "    def predict(self,X):\n",
    "        X = np.concatenate((np.ones((X.shape[0],1)), X), axis=1)\n",
    "        y_pred=np.dot(X,self.thetas)\n",
    "        y_pred=np.where(y_pred>=0,1,-1)\n",
    "        return y_pred"
   ]
  },
  {
   "cell_type": "code",
   "execution_count": 181,
   "metadata": {},
   "outputs": [
    {
     "data": {
      "text/plain": [
       "array([ 0.2938082 , -0.16170643,  0.04289284])"
      ]
     },
     "execution_count": 181,
     "metadata": {},
     "output_type": "execute_result"
    }
   ],
   "source": [
    "perceptron=Perceptron()\n",
    "perceptron.fit(X,y)\n",
    "perceptron.thetas"
   ]
  },
  {
   "cell_type": "code",
   "execution_count": 182,
   "metadata": {},
   "outputs": [
    {
     "data": {
      "text/plain": [
       "(array([-1, -1, -1,  1, -1, -1, -1,  1,  1,  1]),\n",
       " array([[ 1],\n",
       "        [ 1],\n",
       "        [-1],\n",
       "        [ 1],\n",
       "        [-1],\n",
       "        [-1],\n",
       "        [-1],\n",
       "        [ 1],\n",
       "        [ 1],\n",
       "        [ 1]]))"
      ]
     },
     "execution_count": 182,
     "metadata": {},
     "output_type": "execute_result"
    }
   ],
   "source": [
    "y_pred=perceptron.predict(X_test)\n",
    "y_pred,y_test"
   ]
  },
  {
   "cell_type": "code",
   "execution_count": 183,
   "metadata": {},
   "outputs": [
    {
     "data": {
      "text/plain": [
       "<Axes: >"
      ]
     },
     "execution_count": 183,
     "metadata": {},
     "output_type": "execute_result"
    },
    {
     "data": {
      "image/png": "[encoded data removed]",
      "text/plain": [
       "<Figure size 640x480 with 1 Axes>"
      ]
     },
     "metadata": {},
     "output_type": "display_data"
    }
   ],
   "source": [
    "from mlxtend.plotting import plot_decision_regions\n",
    "plot_decision_regions(X_test, y_pred, clf=perceptron, legend=2)"
   ]
  },
  {
   "cell_type": "markdown",
   "metadata": {},
   "source": [
    "The BAD thing about this Model is it doesn't behave optimally always i.e once all points are classified it will not optimise/learn in order to maximize the marginal plane thus can perform a bit loose in testing phase.\n",
    "\n",
    "And thats why we tend to use the Sigmoid method which is much more Reliable and efficient"
   ]
  },
  {
   "cell_type": "markdown",
   "metadata": {},
   "source": []
  }
 ],
 "metadata": {
  "kernelspec": {
   "display_name": "Python 3",
   "language": "python",
   "name": "python3"
  },
  "language_info": {
   "codemirror_mode": {
    "name": "ipython",
    "version": 3
   },
   "file_extension": ".py",
   "mimetype": "text/x-python",
   "name": "python",
   "nbconvert_exporter": "python",
   "pygments_lexer": "ipython3",
   "version": "3.12.0"
  }
 },
 "nbformat": 4,
 "nbformat_minor": 2
}
